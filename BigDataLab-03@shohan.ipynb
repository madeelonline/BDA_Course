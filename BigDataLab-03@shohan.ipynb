{
  "nbformat": 4,
  "nbformat_minor": 0,
  "metadata": {
    "colab": {
      "provenance": []
    },
    "kernelspec": {
      "name": "python3",
      "display_name": "Python 3"
    },
    "language_info": {
      "name": "python"
    }
  },
  "cells": [
    {
      "cell_type": "markdown",
      "source": [
        "\n",
        "---\n",
        "\n",
        "# **Experiment Name:** Pyspark  Dataframe - Handaling missing values\n",
        "# **Experiment No:** 03\n",
        "# **Experiment Date:** 20/08/2023\n",
        "\n",
        "---\n"
      ],
      "metadata": {
        "id": "95JZgJpzNMbe"
      }
    },
    {
      "cell_type": "code",
      "execution_count": 1,
      "metadata": {
        "colab": {
          "base_uri": "https://localhost:8080/",
          "height": 219
        },
        "id": "sfSoiSKUCayf",
        "outputId": "d5d9925c-3aa6-4c0f-e66a-31bec71662e5"
      },
      "outputs": [
        {
          "output_type": "execute_result",
          "data": {
            "text/plain": [
              "<pyspark.sql.session.SparkSession at 0x79acb00f7be0>"
            ],
            "text/html": [
              "\n",
              "            <div>\n",
              "                <p><b>SparkSession - in-memory</b></p>\n",
              "                \n",
              "        <div>\n",
              "            <p><b>SparkContext</b></p>\n",
              "\n",
              "            <p><a href=\"http://f214150e044f:4040\">Spark UI</a></p>\n",
              "\n",
              "            <dl>\n",
              "              <dt>Version</dt>\n",
              "                <dd><code>v3.4.1</code></dd>\n",
              "              <dt>Master</dt>\n",
              "                <dd><code>local[*]</code></dd>\n",
              "              <dt>AppName</dt>\n",
              "                <dd><code>pyspark-shell</code></dd>\n",
              "            </dl>\n",
              "        </div>\n",
              "        \n",
              "            </div>\n",
              "        "
            ]
          },
          "metadata": {},
          "execution_count": 1
        }
      ],
      "source": [
        "# Firstly installing all the tools once again like Lab 01\n",
        "\n",
        "!apt-get install openjdk-8-jdk-headless -qq > /dev/null\n",
        "!wget -q https://dlcdn.apache.org/spark/spark-3.4.1/spark-3.4.1-bin-hadoop3.tgz\n",
        "!tar -xf spark-3.4.1-bin-hadoop3.tgz\n",
        "\n",
        "!pip install -q findspark\n",
        "\n",
        "import os\n",
        "os.environ[\"JAVA_HOME\"] = \"/usr/lib/jvm/java-8-openjdk-amd64\"\n",
        "os.environ[\"SPARK_HOME\"] = \"/content/spark-3.4.1-bin-hadoop3\"\n",
        "\n",
        "import findspark\n",
        "findspark.init()\n",
        "from pyspark.sql import SparkSession\n",
        "spark = SparkSession.builder.master(\"local[*]\").getOrCreate()\n",
        "\n",
        "spark"
      ]
    },
    {
      "cell_type": "code",
      "source": [
        "from google.colab import files\n",
        "files.upload()"
      ],
      "metadata": {
        "colab": {
          "base_uri": "https://localhost:8080/",
          "height": 108
        },
        "id": "a1_aLsTMDqSG",
        "outputId": "b52d50ed-33fd-4763-f216-7ab729cc78b7"
      },
      "execution_count": 2,
      "outputs": [
        {
          "output_type": "display_data",
          "data": {
            "text/plain": [
              "<IPython.core.display.HTML object>"
            ],
            "text/html": [
              "\n",
              "     <input type=\"file\" id=\"files-27a3e4ec-f3d5-42a1-9ee0-183c510e50fb\" name=\"files[]\" multiple disabled\n",
              "        style=\"border:none\" />\n",
              "     <output id=\"result-27a3e4ec-f3d5-42a1-9ee0-183c510e50fb\">\n",
              "      Upload widget is only available when the cell has been executed in the\n",
              "      current browser session. Please rerun this cell to enable.\n",
              "      </output>\n",
              "      <script>// Copyright 2017 Google LLC\n",
              "//\n",
              "// Licensed under the Apache License, Version 2.0 (the \"License\");\n",
              "// you may not use this file except in compliance with the License.\n",
              "// You may obtain a copy of the License at\n",
              "//\n",
              "//      http://www.apache.org/licenses/LICENSE-2.0\n",
              "//\n",
              "// Unless required by applicable law or agreed to in writing, software\n",
              "// distributed under the License is distributed on an \"AS IS\" BASIS,\n",
              "// WITHOUT WARRANTIES OR CONDITIONS OF ANY KIND, either express or implied.\n",
              "// See the License for the specific language governing permissions and\n",
              "// limitations under the License.\n",
              "\n",
              "/**\n",
              " * @fileoverview Helpers for google.colab Python module.\n",
              " */\n",
              "(function(scope) {\n",
              "function span(text, styleAttributes = {}) {\n",
              "  const element = document.createElement('span');\n",
              "  element.textContent = text;\n",
              "  for (const key of Object.keys(styleAttributes)) {\n",
              "    element.style[key] = styleAttributes[key];\n",
              "  }\n",
              "  return element;\n",
              "}\n",
              "\n",
              "// Max number of bytes which will be uploaded at a time.\n",
              "const MAX_PAYLOAD_SIZE = 100 * 1024;\n",
              "\n",
              "function _uploadFiles(inputId, outputId) {\n",
              "  const steps = uploadFilesStep(inputId, outputId);\n",
              "  const outputElement = document.getElementById(outputId);\n",
              "  // Cache steps on the outputElement to make it available for the next call\n",
              "  // to uploadFilesContinue from Python.\n",
              "  outputElement.steps = steps;\n",
              "\n",
              "  return _uploadFilesContinue(outputId);\n",
              "}\n",
              "\n",
              "// This is roughly an async generator (not supported in the browser yet),\n",
              "// where there are multiple asynchronous steps and the Python side is going\n",
              "// to poll for completion of each step.\n",
              "// This uses a Promise to block the python side on completion of each step,\n",
              "// then passes the result of the previous step as the input to the next step.\n",
              "function _uploadFilesContinue(outputId) {\n",
              "  const outputElement = document.getElementById(outputId);\n",
              "  const steps = outputElement.steps;\n",
              "\n",
              "  const next = steps.next(outputElement.lastPromiseValue);\n",
              "  return Promise.resolve(next.value.promise).then((value) => {\n",
              "    // Cache the last promise value to make it available to the next\n",
              "    // step of the generator.\n",
              "    outputElement.lastPromiseValue = value;\n",
              "    return next.value.response;\n",
              "  });\n",
              "}\n",
              "\n",
              "/**\n",
              " * Generator function which is called between each async step of the upload\n",
              " * process.\n",
              " * @param {string} inputId Element ID of the input file picker element.\n",
              " * @param {string} outputId Element ID of the output display.\n",
              " * @return {!Iterable<!Object>} Iterable of next steps.\n",
              " */\n",
              "function* uploadFilesStep(inputId, outputId) {\n",
              "  const inputElement = document.getElementById(inputId);\n",
              "  inputElement.disabled = false;\n",
              "\n",
              "  const outputElement = document.getElementById(outputId);\n",
              "  outputElement.innerHTML = '';\n",
              "\n",
              "  const pickedPromise = new Promise((resolve) => {\n",
              "    inputElement.addEventListener('change', (e) => {\n",
              "      resolve(e.target.files);\n",
              "    });\n",
              "  });\n",
              "\n",
              "  const cancel = document.createElement('button');\n",
              "  inputElement.parentElement.appendChild(cancel);\n",
              "  cancel.textContent = 'Cancel upload';\n",
              "  const cancelPromise = new Promise((resolve) => {\n",
              "    cancel.onclick = () => {\n",
              "      resolve(null);\n",
              "    };\n",
              "  });\n",
              "\n",
              "  // Wait for the user to pick the files.\n",
              "  const files = yield {\n",
              "    promise: Promise.race([pickedPromise, cancelPromise]),\n",
              "    response: {\n",
              "      action: 'starting',\n",
              "    }\n",
              "  };\n",
              "\n",
              "  cancel.remove();\n",
              "\n",
              "  // Disable the input element since further picks are not allowed.\n",
              "  inputElement.disabled = true;\n",
              "\n",
              "  if (!files) {\n",
              "    return {\n",
              "      response: {\n",
              "        action: 'complete',\n",
              "      }\n",
              "    };\n",
              "  }\n",
              "\n",
              "  for (const file of files) {\n",
              "    const li = document.createElement('li');\n",
              "    li.append(span(file.name, {fontWeight: 'bold'}));\n",
              "    li.append(span(\n",
              "        `(${file.type || 'n/a'}) - ${file.size} bytes, ` +\n",
              "        `last modified: ${\n",
              "            file.lastModifiedDate ? file.lastModifiedDate.toLocaleDateString() :\n",
              "                                    'n/a'} - `));\n",
              "    const percent = span('0% done');\n",
              "    li.appendChild(percent);\n",
              "\n",
              "    outputElement.appendChild(li);\n",
              "\n",
              "    const fileDataPromise = new Promise((resolve) => {\n",
              "      const reader = new FileReader();\n",
              "      reader.onload = (e) => {\n",
              "        resolve(e.target.result);\n",
              "      };\n",
              "      reader.readAsArrayBuffer(file);\n",
              "    });\n",
              "    // Wait for the data to be ready.\n",
              "    let fileData = yield {\n",
              "      promise: fileDataPromise,\n",
              "      response: {\n",
              "        action: 'continue',\n",
              "      }\n",
              "    };\n",
              "\n",
              "    // Use a chunked sending to avoid message size limits. See b/62115660.\n",
              "    let position = 0;\n",
              "    do {\n",
              "      const length = Math.min(fileData.byteLength - position, MAX_PAYLOAD_SIZE);\n",
              "      const chunk = new Uint8Array(fileData, position, length);\n",
              "      position += length;\n",
              "\n",
              "      const base64 = btoa(String.fromCharCode.apply(null, chunk));\n",
              "      yield {\n",
              "        response: {\n",
              "          action: 'append',\n",
              "          file: file.name,\n",
              "          data: base64,\n",
              "        },\n",
              "      };\n",
              "\n",
              "      let percentDone = fileData.byteLength === 0 ?\n",
              "          100 :\n",
              "          Math.round((position / fileData.byteLength) * 100);\n",
              "      percent.textContent = `${percentDone}% done`;\n",
              "\n",
              "    } while (position < fileData.byteLength);\n",
              "  }\n",
              "\n",
              "  // All done.\n",
              "  yield {\n",
              "    response: {\n",
              "      action: 'complete',\n",
              "    }\n",
              "  };\n",
              "}\n",
              "\n",
              "scope.google = scope.google || {};\n",
              "scope.google.colab = scope.google.colab || {};\n",
              "scope.google.colab._files = {\n",
              "  _uploadFiles,\n",
              "  _uploadFilesContinue,\n",
              "};\n",
              "})(self);\n",
              "</script> "
            ]
          },
          "metadata": {}
        },
        {
          "output_type": "stream",
          "name": "stdout",
          "text": [
            "Saving dataset_lab3.csv to dataset_lab3.csv\n"
          ]
        },
        {
          "output_type": "execute_result",
          "data": {
            "text/plain": [
              "{'dataset_lab3.csv': b'Name,Age ,Experience,Salary\\r\\nDipjol,50,10,30000\\r\\nNasrin ,40,8,20000\\r\\nRiaz,,2,10000\\r\\nShabnur,45,,\\r\\nPurnima,30,5,20050\\r\\nMousumi,,,\\r\\n,30,7,25000\\r\\nSalman,35,8,65000\\r\\n'}"
            ]
          },
          "metadata": {},
          "execution_count": 2
        }
      ]
    },
    {
      "cell_type": "code",
      "source": [
        "\n",
        "df = spark.read.format('csv').option(\"header\", \"true\").option(\"inferschema\", \"true\").option(\"mode\", \"failfast\").load(\"dataset_lab3.csv\")"
      ],
      "metadata": {
        "id": "vU4hr6imEWSe"
      },
      "execution_count": 3,
      "outputs": []
    },
    {
      "cell_type": "code",
      "source": [
        "df.printSchema()"
      ],
      "metadata": {
        "colab": {
          "base_uri": "https://localhost:8080/"
        },
        "id": "nOcgmIt9ErOm",
        "outputId": "613445f0-f787-48db-e0a8-518721ed9d46"
      },
      "execution_count": 4,
      "outputs": [
        {
          "output_type": "stream",
          "name": "stdout",
          "text": [
            "root\n",
            " |-- Name: string (nullable = true)\n",
            " |-- Age : integer (nullable = true)\n",
            " |-- Experience: integer (nullable = true)\n",
            " |-- Salary: integer (nullable = true)\n",
            "\n"
          ]
        }
      ]
    },
    {
      "cell_type": "code",
      "source": [
        "# To show the whole dataset\n",
        "\n",
        "df.show()"
      ],
      "metadata": {
        "colab": {
          "base_uri": "https://localhost:8080/"
        },
        "id": "pqOyq8HoFDVu",
        "outputId": "f0fb6b83-f01a-4a6c-b99a-5a6ce7e0a00e"
      },
      "execution_count": 5,
      "outputs": [
        {
          "output_type": "stream",
          "name": "stdout",
          "text": [
            "+-------+----+----------+------+\n",
            "|   Name|Age |Experience|Salary|\n",
            "+-------+----+----------+------+\n",
            "| Dipjol|  50|        10| 30000|\n",
            "|Nasrin |  40|         8| 20000|\n",
            "|   Riaz|null|         2| 10000|\n",
            "|Shabnur|  45|      null|  null|\n",
            "|Purnima|  30|         5| 20050|\n",
            "|Mousumi|null|      null|  null|\n",
            "|   null|  30|         7| 25000|\n",
            "| Salman|  35|         8| 65000|\n",
            "+-------+----+----------+------+\n",
            "\n"
          ]
        }
      ]
    },
    {
      "cell_type": "code",
      "source": [
        "# For handaling null value and removing any column from the dataset\n",
        "\n",
        "df.na.drop().show()"
      ],
      "metadata": {
        "colab": {
          "base_uri": "https://localhost:8080/"
        },
        "id": "agcU-2_PFG6t",
        "outputId": "bd7bb9ae-bcf7-4337-e432-bd7502c26be2"
      },
      "execution_count": 6,
      "outputs": [
        {
          "output_type": "stream",
          "name": "stdout",
          "text": [
            "+-------+----+----------+------+\n",
            "|   Name|Age |Experience|Salary|\n",
            "+-------+----+----------+------+\n",
            "| Dipjol|  50|        10| 30000|\n",
            "|Nasrin |  40|         8| 20000|\n",
            "|Purnima|  30|         5| 20050|\n",
            "| Salman|  35|         8| 65000|\n",
            "+-------+----+----------+------+\n",
            "\n"
          ]
        }
      ]
    },
    {
      "cell_type": "code",
      "source": [
        "#For removing any kind of null value from the dataset\n",
        "\n",
        "df.na.drop(how=\"any\").show()"
      ],
      "metadata": {
        "colab": {
          "base_uri": "https://localhost:8080/"
        },
        "id": "cJ5dcCbMHkju",
        "outputId": "dcb862ef-612c-46cb-a916-4bc7ad0b7fdb"
      },
      "execution_count": 7,
      "outputs": [
        {
          "output_type": "stream",
          "name": "stdout",
          "text": [
            "+-------+----+----------+------+\n",
            "|   Name|Age |Experience|Salary|\n",
            "+-------+----+----------+------+\n",
            "| Dipjol|  50|        10| 30000|\n",
            "|Nasrin |  40|         8| 20000|\n",
            "|Purnima|  30|         5| 20050|\n",
            "| Salman|  35|         8| 65000|\n",
            "+-------+----+----------+------+\n",
            "\n"
          ]
        }
      ]
    },
    {
      "cell_type": "code",
      "source": [
        "# If all the value of a row is null, then it will be deleted.\n",
        "\n",
        "df.na.drop(how=\"all\").show()"
      ],
      "metadata": {
        "colab": {
          "base_uri": "https://localhost:8080/"
        },
        "id": "0k3u_y-mKnDd",
        "outputId": "8b87ac4a-605f-4081-e23d-824e14e7377e"
      },
      "execution_count": 8,
      "outputs": [
        {
          "output_type": "stream",
          "name": "stdout",
          "text": [
            "+-------+----+----------+------+\n",
            "|   Name|Age |Experience|Salary|\n",
            "+-------+----+----------+------+\n",
            "| Dipjol|  50|        10| 30000|\n",
            "|Nasrin |  40|         8| 20000|\n",
            "|   Riaz|null|         2| 10000|\n",
            "|Shabnur|  45|      null|  null|\n",
            "|Purnima|  30|         5| 20050|\n",
            "|Mousumi|null|      null|  null|\n",
            "|   null|  30|         7| 25000|\n",
            "| Salman|  35|         8| 65000|\n",
            "+-------+----+----------+------+\n",
            "\n"
          ]
        }
      ]
    },
    {
      "cell_type": "code",
      "source": [
        "\n",
        "df.na.drop(how=\"all\", thresh=3).show()"
      ],
      "metadata": {
        "colab": {
          "base_uri": "https://localhost:8080/"
        },
        "id": "T8JINzu_LZ2W",
        "outputId": "930bc41d-fd9b-41d7-ee77-1ab72ba34aff"
      },
      "execution_count": 9,
      "outputs": [
        {
          "output_type": "stream",
          "name": "stdout",
          "text": [
            "+-------+----+----------+------+\n",
            "|   Name|Age |Experience|Salary|\n",
            "+-------+----+----------+------+\n",
            "| Dipjol|  50|        10| 30000|\n",
            "|Nasrin |  40|         8| 20000|\n",
            "|   Riaz|null|         2| 10000|\n",
            "|Purnima|  30|         5| 20050|\n",
            "|   null|  30|         7| 25000|\n",
            "| Salman|  35|         8| 65000|\n",
            "+-------+----+----------+------+\n",
            "\n"
          ]
        }
      ]
    },
    {
      "cell_type": "code",
      "source": [
        "df.na.drop(how=\"any\", subset=['Salary']).show()"
      ],
      "metadata": {
        "colab": {
          "base_uri": "https://localhost:8080/"
        },
        "id": "RhCczgGbLZ1F",
        "outputId": "a946eaba-ec9c-4e74-aeea-b77e4fa16c39"
      },
      "execution_count": 10,
      "outputs": [
        {
          "output_type": "stream",
          "name": "stdout",
          "text": [
            "+-------+----+----------+------+\n",
            "|   Name|Age |Experience|Salary|\n",
            "+-------+----+----------+------+\n",
            "| Dipjol|  50|        10| 30000|\n",
            "|Nasrin |  40|         8| 20000|\n",
            "|   Riaz|null|         2| 10000|\n",
            "|Purnima|  30|         5| 20050|\n",
            "|   null|  30|         7| 25000|\n",
            "| Salman|  35|         8| 65000|\n",
            "+-------+----+----------+------+\n",
            "\n"
          ]
        }
      ]
    },
    {
      "cell_type": "code",
      "source": [
        "# For handaling null value in any specific column using Imputed method. Here, for Age, Experience and Salary\n",
        "# For performing Mean. Also possible to perform Median\n",
        "\n",
        "from pyspark.ml.feature import Imputer\n",
        "imputer = Imputer (\n",
        "    inputCols=['Experience', 'Salary'],\n",
        "    outputCols=[\"{}_imputed\".format(c) for c in ['Experience', 'Salary']]\n",
        "    ).setStrategy(\"mean\")"
      ],
      "metadata": {
        "id": "Y6bj5VFlNGbH"
      },
      "execution_count": 11,
      "outputs": []
    },
    {
      "cell_type": "code",
      "source": [
        "# For handaling null value in any specific column using Imputed method. Here, for Age, Experience and Salary\n",
        "# For performing Mean. Also possible to perform Median\n",
        "\n",
        "from pyspark.ml.feature import Imputer\n",
        "imputer = Imputer (\n",
        "    inputCols=['Experience', 'Salary'],\n",
        "    outputCols=[\"{}_imputed\".format(c) for c in ['Experience', 'Salary']]\n",
        "    ).setStrategy(\"mode\")"
      ],
      "metadata": {
        "id": "gBZjH_0T9Bc0"
      },
      "execution_count": 23,
      "outputs": []
    },
    {
      "cell_type": "code",
      "source": [
        "#Add imputation Cols to df\n",
        "\n",
        "imputer.fit(df).transform(df).show()"
      ],
      "metadata": {
        "colab": {
          "base_uri": "https://localhost:8080/"
        },
        "id": "VCOuhQmlPivk",
        "outputId": "00d786fa-0fc0-4e5c-ee0e-47686149abf3"
      },
      "execution_count": 24,
      "outputs": [
        {
          "output_type": "stream",
          "name": "stdout",
          "text": [
            "+-------+----+----------+------+------------------+--------------+\n",
            "|   Name|Age |Experience|Salary|Experience_imputed|Salary_imputed|\n",
            "+-------+----+----------+------+------------------+--------------+\n",
            "| Dipjol|  50|        10| 30000|                10|         30000|\n",
            "|Nasrin |  40|         8| 20000|                 8|         20000|\n",
            "|   Riaz|null|         2| 10000|                 2|         10000|\n",
            "|Shabnur|  45|      null|  null|                 8|         10000|\n",
            "|Purnima|  30|         5| 20050|                 5|         20050|\n",
            "|Mousumi|null|      null|  null|                 8|         10000|\n",
            "|   null|  30|         7| 25000|                 7|         25000|\n",
            "| Salman|  35|         8| 65000|                 8|         65000|\n",
            "+-------+----+----------+------+------------------+--------------+\n",
            "\n"
          ]
        }
      ]
    },
    {
      "cell_type": "code",
      "source": [],
      "metadata": {
        "id": "yAFhUpxeZzI4"
      },
      "execution_count": null,
      "outputs": []
    }
  ]
}