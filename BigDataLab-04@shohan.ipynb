{
  "nbformat": 4,
  "nbformat_minor": 0,
  "metadata": {
    "colab": {
      "provenance": []
    },
    "kernelspec": {
      "name": "python3",
      "display_name": "Python 3"
    },
    "language_info": {
      "name": "python"
    }
  },
  "cells": [
    {
      "cell_type": "code",
      "execution_count": null,
      "metadata": {
        "id": "BOf3pl1s_s-1"
      },
      "outputs": [],
      "source": [
        "!apt-get install openjdk-8-jdk-headless -qq > /dev/null\n",
        "!wget -q https://dlcdn.apache.org/spark/spark-3.4.1/spark-3.4.1-bin-hadoop3.tgz\n",
        "!tar -xf spark-3.4.1-bin-hadoop3.tgz\n",
        "\n",
        "!pip install -q findspark\n",
        "\n",
        "import os\n",
        "os.environ[\"JAVA_HOME\"] = \"/usr/lib/jvm/java-8-openjdk-amd64\"\n",
        "os.environ[\"SPARK_HOME\"] = \"/content/spark-3.4.1-bin-hadoop3\"\n",
        "\n",
        "import findspark\n",
        "findspark.init()\n",
        "from pyspark.sql import SparkSession\n",
        "spark = SparkSession.builder.master(\"local[*]\").getOrCreate()"
      ]
    },
    {
      "cell_type": "code",
      "source": [
        "#upload and read dataset\n",
        "from google.colab import files\n",
        "files.upload()"
      ],
      "metadata": {
        "colab": {
          "base_uri": "https://localhost:8080/",
          "height": 127
        },
        "id": "9Ir4YrTOTfC0",
        "outputId": "3290199c-50b2-4e35-92fd-9cbcf5a679e6"
      },
      "execution_count": null,
      "outputs": [
        {
          "output_type": "display_data",
          "data": {
            "text/plain": [
              "<IPython.core.display.HTML object>"
            ],
            "text/html": [
              "\n",
              "     <input type=\"file\" id=\"files-445c950d-61ef-456b-9cc2-30bbc557af8d\" name=\"files[]\" multiple disabled\n",
              "        style=\"border:none\" />\n",
              "     <output id=\"result-445c950d-61ef-456b-9cc2-30bbc557af8d\">\n",
              "      Upload widget is only available when the cell has been executed in the\n",
              "      current browser session. Please rerun this cell to enable.\n",
              "      </output>\n",
              "      <script>// Copyright 2017 Google LLC\n",
              "//\n",
              "// Licensed under the Apache License, Version 2.0 (the \"License\");\n",
              "// you may not use this file except in compliance with the License.\n",
              "// You may obtain a copy of the License at\n",
              "//\n",
              "//      http://www.apache.org/licenses/LICENSE-2.0\n",
              "//\n",
              "// Unless required by applicable law or agreed to in writing, software\n",
              "// distributed under the License is distributed on an \"AS IS\" BASIS,\n",
              "// WITHOUT WARRANTIES OR CONDITIONS OF ANY KIND, either express or implied.\n",
              "// See the License for the specific language governing permissions and\n",
              "// limitations under the License.\n",
              "\n",
              "/**\n",
              " * @fileoverview Helpers for google.colab Python module.\n",
              " */\n",
              "(function(scope) {\n",
              "function span(text, styleAttributes = {}) {\n",
              "  const element = document.createElement('span');\n",
              "  element.textContent = text;\n",
              "  for (const key of Object.keys(styleAttributes)) {\n",
              "    element.style[key] = styleAttributes[key];\n",
              "  }\n",
              "  return element;\n",
              "}\n",
              "\n",
              "// Max number of bytes which will be uploaded at a time.\n",
              "const MAX_PAYLOAD_SIZE = 100 * 1024;\n",
              "\n",
              "function _uploadFiles(inputId, outputId) {\n",
              "  const steps = uploadFilesStep(inputId, outputId);\n",
              "  const outputElement = document.getElementById(outputId);\n",
              "  // Cache steps on the outputElement to make it available for the next call\n",
              "  // to uploadFilesContinue from Python.\n",
              "  outputElement.steps = steps;\n",
              "\n",
              "  return _uploadFilesContinue(outputId);\n",
              "}\n",
              "\n",
              "// This is roughly an async generator (not supported in the browser yet),\n",
              "// where there are multiple asynchronous steps and the Python side is going\n",
              "// to poll for completion of each step.\n",
              "// This uses a Promise to block the python side on completion of each step,\n",
              "// then passes the result of the previous step as the input to the next step.\n",
              "function _uploadFilesContinue(outputId) {\n",
              "  const outputElement = document.getElementById(outputId);\n",
              "  const steps = outputElement.steps;\n",
              "\n",
              "  const next = steps.next(outputElement.lastPromiseValue);\n",
              "  return Promise.resolve(next.value.promise).then((value) => {\n",
              "    // Cache the last promise value to make it available to the next\n",
              "    // step of the generator.\n",
              "    outputElement.lastPromiseValue = value;\n",
              "    return next.value.response;\n",
              "  });\n",
              "}\n",
              "\n",
              "/**\n",
              " * Generator function which is called between each async step of the upload\n",
              " * process.\n",
              " * @param {string} inputId Element ID of the input file picker element.\n",
              " * @param {string} outputId Element ID of the output display.\n",
              " * @return {!Iterable<!Object>} Iterable of next steps.\n",
              " */\n",
              "function* uploadFilesStep(inputId, outputId) {\n",
              "  const inputElement = document.getElementById(inputId);\n",
              "  inputElement.disabled = false;\n",
              "\n",
              "  const outputElement = document.getElementById(outputId);\n",
              "  outputElement.innerHTML = '';\n",
              "\n",
              "  const pickedPromise = new Promise((resolve) => {\n",
              "    inputElement.addEventListener('change', (e) => {\n",
              "      resolve(e.target.files);\n",
              "    });\n",
              "  });\n",
              "\n",
              "  const cancel = document.createElement('button');\n",
              "  inputElement.parentElement.appendChild(cancel);\n",
              "  cancel.textContent = 'Cancel upload';\n",
              "  const cancelPromise = new Promise((resolve) => {\n",
              "    cancel.onclick = () => {\n",
              "      resolve(null);\n",
              "    };\n",
              "  });\n",
              "\n",
              "  // Wait for the user to pick the files.\n",
              "  const files = yield {\n",
              "    promise: Promise.race([pickedPromise, cancelPromise]),\n",
              "    response: {\n",
              "      action: 'starting',\n",
              "    }\n",
              "  };\n",
              "\n",
              "  cancel.remove();\n",
              "\n",
              "  // Disable the input element since further picks are not allowed.\n",
              "  inputElement.disabled = true;\n",
              "\n",
              "  if (!files) {\n",
              "    return {\n",
              "      response: {\n",
              "        action: 'complete',\n",
              "      }\n",
              "    };\n",
              "  }\n",
              "\n",
              "  for (const file of files) {\n",
              "    const li = document.createElement('li');\n",
              "    li.append(span(file.name, {fontWeight: 'bold'}));\n",
              "    li.append(span(\n",
              "        `(${file.type || 'n/a'}) - ${file.size} bytes, ` +\n",
              "        `last modified: ${\n",
              "            file.lastModifiedDate ? file.lastModifiedDate.toLocaleDateString() :\n",
              "                                    'n/a'} - `));\n",
              "    const percent = span('0% done');\n",
              "    li.appendChild(percent);\n",
              "\n",
              "    outputElement.appendChild(li);\n",
              "\n",
              "    const fileDataPromise = new Promise((resolve) => {\n",
              "      const reader = new FileReader();\n",
              "      reader.onload = (e) => {\n",
              "        resolve(e.target.result);\n",
              "      };\n",
              "      reader.readAsArrayBuffer(file);\n",
              "    });\n",
              "    // Wait for the data to be ready.\n",
              "    let fileData = yield {\n",
              "      promise: fileDataPromise,\n",
              "      response: {\n",
              "        action: 'continue',\n",
              "      }\n",
              "    };\n",
              "\n",
              "    // Use a chunked sending to avoid message size limits. See b/62115660.\n",
              "    let position = 0;\n",
              "    do {\n",
              "      const length = Math.min(fileData.byteLength - position, MAX_PAYLOAD_SIZE);\n",
              "      const chunk = new Uint8Array(fileData, position, length);\n",
              "      position += length;\n",
              "\n",
              "      const base64 = btoa(String.fromCharCode.apply(null, chunk));\n",
              "      yield {\n",
              "        response: {\n",
              "          action: 'append',\n",
              "          file: file.name,\n",
              "          data: base64,\n",
              "        },\n",
              "      };\n",
              "\n",
              "      let percentDone = fileData.byteLength === 0 ?\n",
              "          100 :\n",
              "          Math.round((position / fileData.byteLength) * 100);\n",
              "      percent.textContent = `${percentDone}% done`;\n",
              "\n",
              "    } while (position < fileData.byteLength);\n",
              "  }\n",
              "\n",
              "  // All done.\n",
              "  yield {\n",
              "    response: {\n",
              "      action: 'complete',\n",
              "    }\n",
              "  };\n",
              "}\n",
              "\n",
              "scope.google = scope.google || {};\n",
              "scope.google.colab = scope.google.colab || {};\n",
              "scope.google.colab._files = {\n",
              "  _uploadFiles,\n",
              "  _uploadFilesContinue,\n",
              "};\n",
              "})(self);\n",
              "</script> "
            ]
          },
          "metadata": {}
        },
        {
          "output_type": "stream",
          "name": "stdout",
          "text": [
            "Saving lab-4.csv to lab-4.csv\n"
          ]
        },
        {
          "output_type": "execute_result",
          "data": {
            "text/plain": [
              "{'lab-4.csv': b'\\xef\\xbb\\xbfName,Age,Experience,Salary\\r\\nDolon,21,10,10000\\r\\nJessika,20,8,15000\\r\\nAtik,18,5,12000\\r\\nDipta,26,7,25000\\r\\nSohanur,21,2,30000\\r\\nPrema,15,1,22000\\r\\nArpita,19,4,23000\\r\\nAsif,23,11,35000\\r\\nRamjan,22,6,28000\\r\\nSornali,27,13,40000\\r\\nDisha,26,24,35000\\r\\nMahin,29,12,38000\\r\\nDolon,21,13,21000\\r\\nMahin,29,12,43000\\r\\n'}"
            ]
          },
          "metadata": {},
          "execution_count": 3
        }
      ]
    },
    {
      "cell_type": "code",
      "source": [
        "df= spark.read.format('csv').option(\"header\",\"true\").option(\"inferschema\",\"true\").option(\"mode\",\"failfast\").load(\"lab-4.csv\")"
      ],
      "metadata": {
        "id": "iOVlRuhHTf0r"
      },
      "execution_count": null,
      "outputs": []
    },
    {
      "cell_type": "code",
      "source": [
        "df.printSchema()"
      ],
      "metadata": {
        "colab": {
          "base_uri": "https://localhost:8080/"
        },
        "id": "tAR6jNtiXsQj",
        "outputId": "14b13038-e243-45fd-9021-bc0fed84358c"
      },
      "execution_count": null,
      "outputs": [
        {
          "output_type": "stream",
          "name": "stdout",
          "text": [
            "root\n",
            " |-- Name: string (nullable = true)\n",
            " |-- Age: integer (nullable = true)\n",
            " |-- Experience: integer (nullable = true)\n",
            " |-- Salary: integer (nullable = true)\n",
            "\n"
          ]
        }
      ]
    },
    {
      "cell_type": "code",
      "source": [
        "df.show()"
      ],
      "metadata": {
        "colab": {
          "base_uri": "https://localhost:8080/"
        },
        "id": "m4eEBHWpXwOy",
        "outputId": "55447cf3-1d2d-48e2-80a2-19ef07eeb7ca"
      },
      "execution_count": null,
      "outputs": [
        {
          "output_type": "stream",
          "name": "stdout",
          "text": [
            "+-------+---+----------+------+\n",
            "|   Name|Age|Experience|Salary|\n",
            "+-------+---+----------+------+\n",
            "|  Dolon| 21|        10| 10000|\n",
            "|Jessika| 20|         8| 15000|\n",
            "|   Atik| 18|         5| 12000|\n",
            "|  Dipta| 26|         7| 25000|\n",
            "|Sohanur| 21|         2| 30000|\n",
            "|  Prema| 15|         1| 22000|\n",
            "| Arpita| 19|         4| 23000|\n",
            "|   Asif| 23|        11| 35000|\n",
            "| Ramjan| 22|         6| 28000|\n",
            "|Sornali| 27|        13| 40000|\n",
            "|  Disha| 26|        24| 35000|\n",
            "|  Mahin| 29|        12| 38000|\n",
            "|  Dolon| 21|        13| 21000|\n",
            "|  Mahin| 29|        12| 43000|\n",
            "+-------+---+----------+------+\n",
            "\n"
          ]
        }
      ]
    },
    {
      "cell_type": "markdown",
      "source": [
        "#Filter Operation"
      ],
      "metadata": {
        "id": "OxBKYPbbYZS7"
      }
    },
    {
      "cell_type": "code",
      "source": [
        "###Salary of people less than or equal to 20000\n",
        "df.filter(\"Salary<=30000\").show()"
      ],
      "metadata": {
        "colab": {
          "base_uri": "https://localhost:8080/"
        },
        "id": "pHKmuXujX3ry",
        "outputId": "4fdc00ff-9471-4166-c1bc-4db43e31d5df"
      },
      "execution_count": null,
      "outputs": [
        {
          "output_type": "stream",
          "name": "stdout",
          "text": [
            "+-------+---+----------+------+\n",
            "|   Name|Age|Experience|Salary|\n",
            "+-------+---+----------+------+\n",
            "|  Dolon| 21|        10| 10000|\n",
            "|Jessika| 20|         8| 15000|\n",
            "|   Atik| 18|         5| 12000|\n",
            "|  Dipta| 26|         7| 25000|\n",
            "|Sohanur| 21|         2| 30000|\n",
            "|  Prema| 15|         1| 22000|\n",
            "| Arpita| 19|         4| 23000|\n",
            "| Ramjan| 22|         6| 28000|\n",
            "|  Dolon| 21|        13| 21000|\n",
            "+-------+---+----------+------+\n",
            "\n"
          ]
        }
      ]
    },
    {
      "cell_type": "code",
      "source": [
        "df.filter(\"Salary<=30000\").select(['Name','Age']).show()"
      ],
      "metadata": {
        "colab": {
          "base_uri": "https://localhost:8080/"
        },
        "id": "fSZJRRxha6pL",
        "outputId": "af25c667-2b8a-458e-c3c8-2dcfce3a746d"
      },
      "execution_count": null,
      "outputs": [
        {
          "output_type": "stream",
          "name": "stdout",
          "text": [
            "+-------+---+\n",
            "|   Name|Age|\n",
            "+-------+---+\n",
            "|  Dolon| 21|\n",
            "|Jessika| 20|\n",
            "|   Atik| 18|\n",
            "|  Dipta| 26|\n",
            "|Sohanur| 21|\n",
            "|  Prema| 15|\n",
            "| Arpita| 19|\n",
            "| Ramjan| 22|\n",
            "|  Dolon| 21|\n",
            "+-------+---+\n",
            "\n"
          ]
        }
      ]
    },
    {
      "cell_type": "code",
      "source": [
        "df.filter((df['Salary']<=20000)).show()"
      ],
      "metadata": {
        "colab": {
          "base_uri": "https://localhost:8080/"
        },
        "id": "bvi8lPwTd6Rj",
        "outputId": "a170f0a1-61b8-4304-f581-fa6a942daac1"
      },
      "execution_count": null,
      "outputs": [
        {
          "output_type": "stream",
          "name": "stdout",
          "text": [
            "+-------+---+----------+------+\n",
            "|   Name|Age|Experience|Salary|\n",
            "+-------+---+----------+------+\n",
            "|  Dolon| 21|        10| 10000|\n",
            "|Jessika| 20|         8| 15000|\n",
            "|   Atik| 18|         5| 12000|\n",
            "+-------+---+----------+------+\n",
            "\n"
          ]
        }
      ]
    },
    {
      "cell_type": "code",
      "source": [
        "df.filter((df['Salary']<=20000) | (df['Salary']>=15000)).show()"
      ],
      "metadata": {
        "colab": {
          "base_uri": "https://localhost:8080/"
        },
        "id": "qTcgyI0YeM6U",
        "outputId": "1ed712db-a99f-4d94-ddec-440803dcb7df"
      },
      "execution_count": null,
      "outputs": [
        {
          "output_type": "stream",
          "name": "stdout",
          "text": [
            "+-------+---+----------+------+\n",
            "|   Name|Age|Experience|Salary|\n",
            "+-------+---+----------+------+\n",
            "|  Dolon| 21|        10| 10000|\n",
            "|Jessika| 20|         8| 15000|\n",
            "|   Atik| 18|         5| 12000|\n",
            "|  Dipta| 26|         7| 25000|\n",
            "|Sohanur| 21|         2| 30000|\n",
            "|  Prema| 15|         1| 22000|\n",
            "| Arpita| 19|         4| 23000|\n",
            "|   Asif| 23|        11| 35000|\n",
            "| Ramjan| 22|         6| 28000|\n",
            "|Sornali| 27|        13| 40000|\n",
            "|  Disha| 26|        24| 35000|\n",
            "|  Mahin| 29|        12| 38000|\n",
            "|  Dolon| 21|        13| 21000|\n",
            "|  Mahin| 29|        12| 43000|\n",
            "+-------+---+----------+------+\n",
            "\n"
          ]
        }
      ]
    },
    {
      "cell_type": "code",
      "source": [
        "df.filter((df['Salary']<=20000) & (df['Salary']>=15000)).show()"
      ],
      "metadata": {
        "colab": {
          "base_uri": "https://localhost:8080/"
        },
        "id": "39B8pBYke8-z",
        "outputId": "6e5ebaa4-8428-41e0-bd90-3e77500dd695"
      },
      "execution_count": null,
      "outputs": [
        {
          "output_type": "stream",
          "name": "stdout",
          "text": [
            "+-------+---+----------+------+\n",
            "|   Name|Age|Experience|Salary|\n",
            "+-------+---+----------+------+\n",
            "|Jessika| 20|         8| 15000|\n",
            "+-------+---+----------+------+\n",
            "\n"
          ]
        }
      ]
    },
    {
      "cell_type": "code",
      "source": [
        "df.filter(~(df['Salary']<=20000)).show()"
      ],
      "metadata": {
        "colab": {
          "base_uri": "https://localhost:8080/"
        },
        "id": "x4YydiueflE0",
        "outputId": "59a517c1-067c-4cd3-c9e1-34bf4dd274ea"
      },
      "execution_count": null,
      "outputs": [
        {
          "output_type": "stream",
          "name": "stdout",
          "text": [
            "+-------+---+----------+------+\n",
            "|   Name|Age|Experience|Salary|\n",
            "+-------+---+----------+------+\n",
            "|  Dipta| 26|         7| 25000|\n",
            "|Sohanur| 21|         2| 30000|\n",
            "|  Prema| 15|         1| 22000|\n",
            "| Arpita| 19|         4| 23000|\n",
            "|   Asif| 23|        11| 35000|\n",
            "| Ramjan| 22|         6| 28000|\n",
            "|Sornali| 27|        13| 40000|\n",
            "|  Disha| 26|        24| 35000|\n",
            "|  Mahin| 29|        12| 38000|\n",
            "|  Dolon| 21|        13| 21000|\n",
            "|  Mahin| 29|        12| 43000|\n",
            "+-------+---+----------+------+\n",
            "\n"
          ]
        }
      ]
    },
    {
      "cell_type": "markdown",
      "source": [
        "#PySpark GroupBy And Aggregate Function"
      ],
      "metadata": {
        "id": "yon-EnxPivvz"
      }
    },
    {
      "cell_type": "code",
      "source": [
        "#upload and read dataset\n",
        "from google.colab import files\n",
        "files.upload()"
      ],
      "metadata": {
        "colab": {
          "base_uri": "https://localhost:8080/",
          "height": 127
        },
        "id": "_KyCMTAClV78",
        "outputId": "b03be6bc-f000-4c70-8e9d-e36ef7814333"
      },
      "execution_count": null,
      "outputs": [
        {
          "output_type": "display_data",
          "data": {
            "text/plain": [
              "<IPython.core.display.HTML object>"
            ],
            "text/html": [
              "\n",
              "     <input type=\"file\" id=\"files-a5fcd3f1-2f92-46f3-9415-0eb5d67c6ef6\" name=\"files[]\" multiple disabled\n",
              "        style=\"border:none\" />\n",
              "     <output id=\"result-a5fcd3f1-2f92-46f3-9415-0eb5d67c6ef6\">\n",
              "      Upload widget is only available when the cell has been executed in the\n",
              "      current browser session. Please rerun this cell to enable.\n",
              "      </output>\n",
              "      <script>// Copyright 2017 Google LLC\n",
              "//\n",
              "// Licensed under the Apache License, Version 2.0 (the \"License\");\n",
              "// you may not use this file except in compliance with the License.\n",
              "// You may obtain a copy of the License at\n",
              "//\n",
              "//      http://www.apache.org/licenses/LICENSE-2.0\n",
              "//\n",
              "// Unless required by applicable law or agreed to in writing, software\n",
              "// distributed under the License is distributed on an \"AS IS\" BASIS,\n",
              "// WITHOUT WARRANTIES OR CONDITIONS OF ANY KIND, either express or implied.\n",
              "// See the License for the specific language governing permissions and\n",
              "// limitations under the License.\n",
              "\n",
              "/**\n",
              " * @fileoverview Helpers for google.colab Python module.\n",
              " */\n",
              "(function(scope) {\n",
              "function span(text, styleAttributes = {}) {\n",
              "  const element = document.createElement('span');\n",
              "  element.textContent = text;\n",
              "  for (const key of Object.keys(styleAttributes)) {\n",
              "    element.style[key] = styleAttributes[key];\n",
              "  }\n",
              "  return element;\n",
              "}\n",
              "\n",
              "// Max number of bytes which will be uploaded at a time.\n",
              "const MAX_PAYLOAD_SIZE = 100 * 1024;\n",
              "\n",
              "function _uploadFiles(inputId, outputId) {\n",
              "  const steps = uploadFilesStep(inputId, outputId);\n",
              "  const outputElement = document.getElementById(outputId);\n",
              "  // Cache steps on the outputElement to make it available for the next call\n",
              "  // to uploadFilesContinue from Python.\n",
              "  outputElement.steps = steps;\n",
              "\n",
              "  return _uploadFilesContinue(outputId);\n",
              "}\n",
              "\n",
              "// This is roughly an async generator (not supported in the browser yet),\n",
              "// where there are multiple asynchronous steps and the Python side is going\n",
              "// to poll for completion of each step.\n",
              "// This uses a Promise to block the python side on completion of each step,\n",
              "// then passes the result of the previous step as the input to the next step.\n",
              "function _uploadFilesContinue(outputId) {\n",
              "  const outputElement = document.getElementById(outputId);\n",
              "  const steps = outputElement.steps;\n",
              "\n",
              "  const next = steps.next(outputElement.lastPromiseValue);\n",
              "  return Promise.resolve(next.value.promise).then((value) => {\n",
              "    // Cache the last promise value to make it available to the next\n",
              "    // step of the generator.\n",
              "    outputElement.lastPromiseValue = value;\n",
              "    return next.value.response;\n",
              "  });\n",
              "}\n",
              "\n",
              "/**\n",
              " * Generator function which is called between each async step of the upload\n",
              " * process.\n",
              " * @param {string} inputId Element ID of the input file picker element.\n",
              " * @param {string} outputId Element ID of the output display.\n",
              " * @return {!Iterable<!Object>} Iterable of next steps.\n",
              " */\n",
              "function* uploadFilesStep(inputId, outputId) {\n",
              "  const inputElement = document.getElementById(inputId);\n",
              "  inputElement.disabled = false;\n",
              "\n",
              "  const outputElement = document.getElementById(outputId);\n",
              "  outputElement.innerHTML = '';\n",
              "\n",
              "  const pickedPromise = new Promise((resolve) => {\n",
              "    inputElement.addEventListener('change', (e) => {\n",
              "      resolve(e.target.files);\n",
              "    });\n",
              "  });\n",
              "\n",
              "  const cancel = document.createElement('button');\n",
              "  inputElement.parentElement.appendChild(cancel);\n",
              "  cancel.textContent = 'Cancel upload';\n",
              "  const cancelPromise = new Promise((resolve) => {\n",
              "    cancel.onclick = () => {\n",
              "      resolve(null);\n",
              "    };\n",
              "  });\n",
              "\n",
              "  // Wait for the user to pick the files.\n",
              "  const files = yield {\n",
              "    promise: Promise.race([pickedPromise, cancelPromise]),\n",
              "    response: {\n",
              "      action: 'starting',\n",
              "    }\n",
              "  };\n",
              "\n",
              "  cancel.remove();\n",
              "\n",
              "  // Disable the input element since further picks are not allowed.\n",
              "  inputElement.disabled = true;\n",
              "\n",
              "  if (!files) {\n",
              "    return {\n",
              "      response: {\n",
              "        action: 'complete',\n",
              "      }\n",
              "    };\n",
              "  }\n",
              "\n",
              "  for (const file of files) {\n",
              "    const li = document.createElement('li');\n",
              "    li.append(span(file.name, {fontWeight: 'bold'}));\n",
              "    li.append(span(\n",
              "        `(${file.type || 'n/a'}) - ${file.size} bytes, ` +\n",
              "        `last modified: ${\n",
              "            file.lastModifiedDate ? file.lastModifiedDate.toLocaleDateString() :\n",
              "                                    'n/a'} - `));\n",
              "    const percent = span('0% done');\n",
              "    li.appendChild(percent);\n",
              "\n",
              "    outputElement.appendChild(li);\n",
              "\n",
              "    const fileDataPromise = new Promise((resolve) => {\n",
              "      const reader = new FileReader();\n",
              "      reader.onload = (e) => {\n",
              "        resolve(e.target.result);\n",
              "      };\n",
              "      reader.readAsArrayBuffer(file);\n",
              "    });\n",
              "    // Wait for the data to be ready.\n",
              "    let fileData = yield {\n",
              "      promise: fileDataPromise,\n",
              "      response: {\n",
              "        action: 'continue',\n",
              "      }\n",
              "    };\n",
              "\n",
              "    // Use a chunked sending to avoid message size limits. See b/62115660.\n",
              "    let position = 0;\n",
              "    do {\n",
              "      const length = Math.min(fileData.byteLength - position, MAX_PAYLOAD_SIZE);\n",
              "      const chunk = new Uint8Array(fileData, position, length);\n",
              "      position += length;\n",
              "\n",
              "      const base64 = btoa(String.fromCharCode.apply(null, chunk));\n",
              "      yield {\n",
              "        response: {\n",
              "          action: 'append',\n",
              "          file: file.name,\n",
              "          data: base64,\n",
              "        },\n",
              "      };\n",
              "\n",
              "      let percentDone = fileData.byteLength === 0 ?\n",
              "          100 :\n",
              "          Math.round((position / fileData.byteLength) * 100);\n",
              "      percent.textContent = `${percentDone}% done`;\n",
              "\n",
              "    } while (position < fileData.byteLength);\n",
              "  }\n",
              "\n",
              "  // All done.\n",
              "  yield {\n",
              "    response: {\n",
              "      action: 'complete',\n",
              "    }\n",
              "  };\n",
              "}\n",
              "\n",
              "scope.google = scope.google || {};\n",
              "scope.google.colab = scope.google.colab || {};\n",
              "scope.google.colab._files = {\n",
              "  _uploadFiles,\n",
              "  _uploadFilesContinue,\n",
              "};\n",
              "})(self);\n",
              "</script> "
            ]
          },
          "metadata": {}
        },
        {
          "output_type": "stream",
          "name": "stdout",
          "text": [
            "Saving lab-4.csv to lab-4 (1).csv\n"
          ]
        },
        {
          "output_type": "execute_result",
          "data": {
            "text/plain": [
              "{'lab-4 (1).csv': b'\\xef\\xbb\\xbfName,Age,Experience,Salary\\r\\nDolon,21,10,10000\\r\\nJessika,20,8,15000\\r\\nAtik,18,5,12000\\r\\nDipta,26,7,25000\\r\\nSohanur,21,2,30000\\r\\nPrema,15,1,22000\\r\\nArpita,19,4,23000\\r\\nAsif,23,11,35000\\r\\nRamjan,22,6,28000\\r\\nSornali,27,13,40000\\r\\nDisha,26,24,35000\\r\\nMahin,29,12,38000\\r\\nDolon,21,13,21000\\r\\nMahin,29,12,43000\\r\\n'}"
            ]
          },
          "metadata": {},
          "execution_count": 13
        }
      ]
    },
    {
      "cell_type": "code",
      "source": [
        "df1= spark.read.format('csv').option(\"header\",\"true\").option(\"inferschema\",\"true\").option(\"mode\",\"failfast\").load(\"lab-4.csv\")"
      ],
      "metadata": {
        "id": "zMR4F2arldob"
      },
      "execution_count": null,
      "outputs": []
    },
    {
      "cell_type": "code",
      "source": [
        "df1.show()"
      ],
      "metadata": {
        "colab": {
          "base_uri": "https://localhost:8080/"
        },
        "id": "sBTsZz98izCT",
        "outputId": "62851f90-e2f2-4fac-e5be-e0452a2fabc5"
      },
      "execution_count": null,
      "outputs": [
        {
          "output_type": "stream",
          "name": "stdout",
          "text": [
            "+-------+---+----------+------+\n",
            "|   Name|Age|Experience|Salary|\n",
            "+-------+---+----------+------+\n",
            "|  Dolon| 21|        10| 10000|\n",
            "|Jessika| 20|         8| 15000|\n",
            "|   Atik| 18|         5| 12000|\n",
            "|  Dipta| 26|         7| 25000|\n",
            "|Sohanur| 21|         2| 30000|\n",
            "|  Prema| 15|         1| 22000|\n",
            "| Arpita| 19|         4| 23000|\n",
            "|   Asif| 23|        11| 35000|\n",
            "| Ramjan| 22|         6| 28000|\n",
            "|Sornali| 27|        13| 40000|\n",
            "|  Disha| 26|        24| 35000|\n",
            "|  Mahin| 29|        12| 38000|\n",
            "|  Dolon| 21|        13| 21000|\n",
            "|  Mahin| 29|        12| 43000|\n",
            "+-------+---+----------+------+\n",
            "\n"
          ]
        }
      ]
    },
    {
      "cell_type": "code",
      "source": [
        "###Grouped to find the maximum Salary\n",
        "df1.groupBy('Name').sum().show()"
      ],
      "metadata": {
        "colab": {
          "base_uri": "https://localhost:8080/"
        },
        "id": "3X8ooBb5jXGj",
        "outputId": "8ad3c6bc-c472-4793-b582-ea0216d2c1ef"
      },
      "execution_count": null,
      "outputs": [
        {
          "output_type": "stream",
          "name": "stdout",
          "text": [
            "+-------+--------+---------------+-----------+\n",
            "|   Name|sum(Age)|sum(Experience)|sum(Salary)|\n",
            "+-------+--------+---------------+-----------+\n",
            "| Ramjan|      22|              6|      28000|\n",
            "|  Prema|      15|              1|      22000|\n",
            "| Arpita|      19|              4|      23000|\n",
            "|Sohanur|      21|              2|      30000|\n",
            "|   Atik|      18|              5|      12000|\n",
            "|  Dipta|      26|              7|      25000|\n",
            "|  Mahin|      58|             24|      81000|\n",
            "|   Asif|      23|             11|      35000|\n",
            "|Sornali|      27|             13|      40000|\n",
            "|  Dolon|      42|             23|      31000|\n",
            "|Jessika|      20|              8|      15000|\n",
            "|  Disha|      26|             24|      35000|\n",
            "+-------+--------+---------------+-----------+\n",
            "\n"
          ]
        }
      ]
    },
    {
      "cell_type": "code",
      "source": [
        "df1.groupBy('Name').avg().show()"
      ],
      "metadata": {
        "colab": {
          "base_uri": "https://localhost:8080/"
        },
        "id": "8og_ufznl7x0",
        "outputId": "0cf64814-14ad-406f-82de-d7ada3fabaf1"
      },
      "execution_count": null,
      "outputs": [
        {
          "output_type": "stream",
          "name": "stdout",
          "text": [
            "+-------+--------+---------------+-----------+\n",
            "|   Name|avg(Age)|avg(Experience)|avg(Salary)|\n",
            "+-------+--------+---------------+-----------+\n",
            "| Ramjan|    22.0|            6.0|    28000.0|\n",
            "|  Prema|    15.0|            1.0|    22000.0|\n",
            "| Arpita|    19.0|            4.0|    23000.0|\n",
            "|Sohanur|    21.0|            2.0|    30000.0|\n",
            "|   Atik|    18.0|            5.0|    12000.0|\n",
            "|  Dipta|    26.0|            7.0|    25000.0|\n",
            "|  Mahin|    29.0|           12.0|    40500.0|\n",
            "|   Asif|    23.0|           11.0|    35000.0|\n",
            "|Sornali|    27.0|           13.0|    40000.0|\n",
            "|  Dolon|    21.0|           11.5|    15500.0|\n",
            "|Jessika|    20.0|            8.0|    15000.0|\n",
            "|  Disha|    26.0|           24.0|    35000.0|\n",
            "+-------+--------+---------------+-----------+\n",
            "\n"
          ]
        }
      ]
    },
    {
      "cell_type": "code",
      "source": [
        "df1.groupBy('Name').mean().show()"
      ],
      "metadata": {
        "id": "_m_wj9TAmN0c",
        "outputId": "01e17c0c-f01b-4dfb-8559-450eb6ec316a",
        "colab": {
          "base_uri": "https://localhost:8080/"
        }
      },
      "execution_count": null,
      "outputs": [
        {
          "output_type": "stream",
          "name": "stdout",
          "text": [
            "+-------+--------+---------------+-----------+\n",
            "|   Name|avg(Age)|avg(Experience)|avg(Salary)|\n",
            "+-------+--------+---------------+-----------+\n",
            "| Ramjan|    22.0|            6.0|    28000.0|\n",
            "|  Prema|    15.0|            1.0|    22000.0|\n",
            "| Arpita|    19.0|            4.0|    23000.0|\n",
            "|Sohanur|    21.0|            2.0|    30000.0|\n",
            "|   Atik|    18.0|            5.0|    12000.0|\n",
            "|  Dipta|    26.0|            7.0|    25000.0|\n",
            "|  Mahin|    29.0|           12.0|    40500.0|\n",
            "|   Asif|    23.0|           11.0|    35000.0|\n",
            "|Sornali|    27.0|           13.0|    40000.0|\n",
            "|  Dolon|    21.0|           11.5|    15500.0|\n",
            "|Jessika|    20.0|            8.0|    15000.0|\n",
            "|  Disha|    26.0|           24.0|    35000.0|\n",
            "+-------+--------+---------------+-----------+\n",
            "\n"
          ]
        }
      ]
    }
  ]
}