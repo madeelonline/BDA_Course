{
  "nbformat": 4,
  "nbformat_minor": 0,
  "metadata": {
    "colab": {
      "provenance": []
    },
    "kernelspec": {
      "name": "python3",
      "display_name": "Python 3"
    },
    "language_info": {
      "name": "python"
    }
  },
  "cells": [
    {
      "cell_type": "markdown",
      "source": [
        "\n",
        "---\n",
        "\n",
        "\n",
        "# **Experiment Name:** Understanding the pyspark data frame\n",
        "# **Experiment No:** 02\n",
        "# **Experiment Date:** 13/08/2023\n",
        "\n",
        "\n",
        "---\n"
      ],
      "metadata": {
        "id": "7xar7TDfQe_a"
      }
    },
    {
      "cell_type": "code",
      "execution_count": 4,
      "metadata": {
        "colab": {
          "base_uri": "https://localhost:8080/",
          "height": 219
        },
        "id": "h21PRkYGJsHs",
        "outputId": "5cf6787b-46c5-42e9-8da7-cd63d56fd546"
      },
      "outputs": [
        {
          "output_type": "execute_result",
          "data": {
            "text/plain": [
              "<pyspark.sql.session.SparkSession at 0x7a503005e050>"
            ],
            "text/html": [
              "\n",
              "            <div>\n",
              "                <p><b>SparkSession - in-memory</b></p>\n",
              "                \n",
              "        <div>\n",
              "            <p><b>SparkContext</b></p>\n",
              "\n",
              "            <p><a href=\"http://51678206997f:4040\">Spark UI</a></p>\n",
              "\n",
              "            <dl>\n",
              "              <dt>Version</dt>\n",
              "                <dd><code>v3.4.1</code></dd>\n",
              "              <dt>Master</dt>\n",
              "                <dd><code>local[*]</code></dd>\n",
              "              <dt>AppName</dt>\n",
              "                <dd><code>pyspark-shell</code></dd>\n",
              "            </dl>\n",
              "        </div>\n",
              "        \n",
              "            </div>\n",
              "        "
            ]
          },
          "metadata": {},
          "execution_count": 4
        }
      ],
      "source": [
        "# Firstly installing all the tools once again like Lab 01\n",
        "\n",
        "!apt-get install openjdk-8-jdk-headless -qq > /dev/null\n",
        "!wget -q https://dlcdn.apache.org/spark/spark-3.4.1/spark-3.4.1-bin-hadoop3.tgz\n",
        "!tar -xf spark-3.4.1-bin-hadoop3.tgz\n",
        "\n",
        "!pip install -q findspark\n",
        "\n",
        "import os\n",
        "os.environ[\"JAVA_HOME\"] = \"/usr/lib/jvm/java-8-openjdk-amd64\"\n",
        "os.environ[\"SPARK_HOME\"] = \"/content/spark-3.4.1-bin-hadoop3\"\n",
        "\n",
        "import findspark\n",
        "findspark.init()\n",
        "from pyspark.sql import SparkSession\n",
        "spark = SparkSession.builder.master(\"local[*]\").getOrCreate()\n",
        "\n",
        "spark"
      ]
    },
    {
      "cell_type": "code",
      "source": [
        "# Importing dataset to the code. The file type must be in .csv\n",
        "\n",
        "from google.colab import files\n",
        "files.upload()"
      ],
      "metadata": {
        "colab": {
          "base_uri": "https://localhost:8080/",
          "height": 108
        },
        "id": "UVXa3UkJKWdx",
        "outputId": "8f4ec33c-f46c-434c-ce61-ea1a5d372605"
      },
      "execution_count": 8,
      "outputs": [
        {
          "output_type": "display_data",
          "data": {
            "text/plain": [
              "<IPython.core.display.HTML object>"
            ],
            "text/html": [
              "\n",
              "     <input type=\"file\" id=\"files-24f32ed8-6cb7-46cc-ba7c-85b48d32c26c\" name=\"files[]\" multiple disabled\n",
              "        style=\"border:none\" />\n",
              "     <output id=\"result-24f32ed8-6cb7-46cc-ba7c-85b48d32c26c\">\n",
              "      Upload widget is only available when the cell has been executed in the\n",
              "      current browser session. Please rerun this cell to enable.\n",
              "      </output>\n",
              "      <script>// Copyright 2017 Google LLC\n",
              "//\n",
              "// Licensed under the Apache License, Version 2.0 (the \"License\");\n",
              "// you may not use this file except in compliance with the License.\n",
              "// You may obtain a copy of the License at\n",
              "//\n",
              "//      http://www.apache.org/licenses/LICENSE-2.0\n",
              "//\n",
              "// Unless required by applicable law or agreed to in writing, software\n",
              "// distributed under the License is distributed on an \"AS IS\" BASIS,\n",
              "// WITHOUT WARRANTIES OR CONDITIONS OF ANY KIND, either express or implied.\n",
              "// See the License for the specific language governing permissions and\n",
              "// limitations under the License.\n",
              "\n",
              "/**\n",
              " * @fileoverview Helpers for google.colab Python module.\n",
              " */\n",
              "(function(scope) {\n",
              "function span(text, styleAttributes = {}) {\n",
              "  const element = document.createElement('span');\n",
              "  element.textContent = text;\n",
              "  for (const key of Object.keys(styleAttributes)) {\n",
              "    element.style[key] = styleAttributes[key];\n",
              "  }\n",
              "  return element;\n",
              "}\n",
              "\n",
              "// Max number of bytes which will be uploaded at a time.\n",
              "const MAX_PAYLOAD_SIZE = 100 * 1024;\n",
              "\n",
              "function _uploadFiles(inputId, outputId) {\n",
              "  const steps = uploadFilesStep(inputId, outputId);\n",
              "  const outputElement = document.getElementById(outputId);\n",
              "  // Cache steps on the outputElement to make it available for the next call\n",
              "  // to uploadFilesContinue from Python.\n",
              "  outputElement.steps = steps;\n",
              "\n",
              "  return _uploadFilesContinue(outputId);\n",
              "}\n",
              "\n",
              "// This is roughly an async generator (not supported in the browser yet),\n",
              "// where there are multiple asynchronous steps and the Python side is going\n",
              "// to poll for completion of each step.\n",
              "// This uses a Promise to block the python side on completion of each step,\n",
              "// then passes the result of the previous step as the input to the next step.\n",
              "function _uploadFilesContinue(outputId) {\n",
              "  const outputElement = document.getElementById(outputId);\n",
              "  const steps = outputElement.steps;\n",
              "\n",
              "  const next = steps.next(outputElement.lastPromiseValue);\n",
              "  return Promise.resolve(next.value.promise).then((value) => {\n",
              "    // Cache the last promise value to make it available to the next\n",
              "    // step of the generator.\n",
              "    outputElement.lastPromiseValue = value;\n",
              "    return next.value.response;\n",
              "  });\n",
              "}\n",
              "\n",
              "/**\n",
              " * Generator function which is called between each async step of the upload\n",
              " * process.\n",
              " * @param {string} inputId Element ID of the input file picker element.\n",
              " * @param {string} outputId Element ID of the output display.\n",
              " * @return {!Iterable<!Object>} Iterable of next steps.\n",
              " */\n",
              "function* uploadFilesStep(inputId, outputId) {\n",
              "  const inputElement = document.getElementById(inputId);\n",
              "  inputElement.disabled = false;\n",
              "\n",
              "  const outputElement = document.getElementById(outputId);\n",
              "  outputElement.innerHTML = '';\n",
              "\n",
              "  const pickedPromise = new Promise((resolve) => {\n",
              "    inputElement.addEventListener('change', (e) => {\n",
              "      resolve(e.target.files);\n",
              "    });\n",
              "  });\n",
              "\n",
              "  const cancel = document.createElement('button');\n",
              "  inputElement.parentElement.appendChild(cancel);\n",
              "  cancel.textContent = 'Cancel upload';\n",
              "  const cancelPromise = new Promise((resolve) => {\n",
              "    cancel.onclick = () => {\n",
              "      resolve(null);\n",
              "    };\n",
              "  });\n",
              "\n",
              "  // Wait for the user to pick the files.\n",
              "  const files = yield {\n",
              "    promise: Promise.race([pickedPromise, cancelPromise]),\n",
              "    response: {\n",
              "      action: 'starting',\n",
              "    }\n",
              "  };\n",
              "\n",
              "  cancel.remove();\n",
              "\n",
              "  // Disable the input element since further picks are not allowed.\n",
              "  inputElement.disabled = true;\n",
              "\n",
              "  if (!files) {\n",
              "    return {\n",
              "      response: {\n",
              "        action: 'complete',\n",
              "      }\n",
              "    };\n",
              "  }\n",
              "\n",
              "  for (const file of files) {\n",
              "    const li = document.createElement('li');\n",
              "    li.append(span(file.name, {fontWeight: 'bold'}));\n",
              "    li.append(span(\n",
              "        `(${file.type || 'n/a'}) - ${file.size} bytes, ` +\n",
              "        `last modified: ${\n",
              "            file.lastModifiedDate ? file.lastModifiedDate.toLocaleDateString() :\n",
              "                                    'n/a'} - `));\n",
              "    const percent = span('0% done');\n",
              "    li.appendChild(percent);\n",
              "\n",
              "    outputElement.appendChild(li);\n",
              "\n",
              "    const fileDataPromise = new Promise((resolve) => {\n",
              "      const reader = new FileReader();\n",
              "      reader.onload = (e) => {\n",
              "        resolve(e.target.result);\n",
              "      };\n",
              "      reader.readAsArrayBuffer(file);\n",
              "    });\n",
              "    // Wait for the data to be ready.\n",
              "    let fileData = yield {\n",
              "      promise: fileDataPromise,\n",
              "      response: {\n",
              "        action: 'continue',\n",
              "      }\n",
              "    };\n",
              "\n",
              "    // Use a chunked sending to avoid message size limits. See b/62115660.\n",
              "    let position = 0;\n",
              "    do {\n",
              "      const length = Math.min(fileData.byteLength - position, MAX_PAYLOAD_SIZE);\n",
              "      const chunk = new Uint8Array(fileData, position, length);\n",
              "      position += length;\n",
              "\n",
              "      const base64 = btoa(String.fromCharCode.apply(null, chunk));\n",
              "      yield {\n",
              "        response: {\n",
              "          action: 'append',\n",
              "          file: file.name,\n",
              "          data: base64,\n",
              "        },\n",
              "      };\n",
              "\n",
              "      let percentDone = fileData.byteLength === 0 ?\n",
              "          100 :\n",
              "          Math.round((position / fileData.byteLength) * 100);\n",
              "      percent.textContent = `${percentDone}% done`;\n",
              "\n",
              "    } while (position < fileData.byteLength);\n",
              "  }\n",
              "\n",
              "  // All done.\n",
              "  yield {\n",
              "    response: {\n",
              "      action: 'complete',\n",
              "    }\n",
              "  };\n",
              "}\n",
              "\n",
              "scope.google = scope.google || {};\n",
              "scope.google.colab = scope.google.colab || {};\n",
              "scope.google.colab._files = {\n",
              "  _uploadFiles,\n",
              "  _uploadFilesContinue,\n",
              "};\n",
              "})(self);\n",
              "</script> "
            ]
          },
          "metadata": {}
        },
        {
          "output_type": "stream",
          "name": "stdout",
          "text": [
            "Saving lab2.csv to lab2 (2).csv\n"
          ]
        },
        {
          "output_type": "execute_result",
          "data": {
            "text/plain": [
              "{'lab2 (2).csv': b'Name,Age,Experience ,Salary\\rMafiul,27,4,50000\\rTanvir,19,2,30000\\rPrema,25,5,60000\\rDipjol,55,10,100000\\rMousumi,45,15,120000\\rShakib,38,20,200000\\rPori Moni,16,12,10000\\r\\n'}"
            ]
          },
          "metadata": {},
          "execution_count": 8
        }
      ]
    },
    {
      "cell_type": "code",
      "source": [
        "# For reading the dataset(.csv file) by Apache Spark. Here, \"df\" is not fixed. We can select any name instead of \"df\". For example, If we use the \"bigdata\" word, it will work.\n",
        "\n",
        "df = spark.read.format('csv').option(\"header\", \"true\").option(\"inferschema\", \"true\").option(\"mode\", \"failfast\").load(\"lab2.csv\")"
      ],
      "metadata": {
        "id": "llQvfJIUTJRK"
      },
      "execution_count": 9,
      "outputs": []
    },
    {
      "cell_type": "code",
      "source": [
        "# Apache spark to display the schema\n",
        "\n",
        "df.printSchema()"
      ],
      "metadata": {
        "colab": {
          "base_uri": "https://localhost:8080/"
        },
        "id": "f1kKGfVbUtnu",
        "outputId": "fd2c8aca-29c1-4de6-94cb-c02b96290330"
      },
      "execution_count": 10,
      "outputs": [
        {
          "output_type": "stream",
          "name": "stdout",
          "text": [
            "root\n",
            " |-- Name: string (nullable = true)\n",
            " |-- Age: integer (nullable = true)\n",
            " |-- Experience : integer (nullable = true)\n",
            " |-- Salary: integer (nullable = true)\n",
            "\n"
          ]
        }
      ]
    },
    {
      "cell_type": "code",
      "source": [
        "# For showing the dataset table\n",
        "\n",
        "df.show()"
      ],
      "metadata": {
        "colab": {
          "base_uri": "https://localhost:8080/"
        },
        "id": "d6w7CPfkVkXM",
        "outputId": "2bba3c76-eb6f-46df-ae12-083eb1d385fc"
      },
      "execution_count": 11,
      "outputs": [
        {
          "output_type": "stream",
          "name": "stdout",
          "text": [
            "+---------+---+-----------+------+\n",
            "|     Name|Age|Experience |Salary|\n",
            "+---------+---+-----------+------+\n",
            "|   Mafiul| 27|          4| 50000|\n",
            "|   Tanvir| 19|          2| 30000|\n",
            "|    Prema| 25|          5| 60000|\n",
            "|   Dipjol| 55|         10|100000|\n",
            "|  Mousumi| 45|         15|120000|\n",
            "|   Shakib| 38|         20|200000|\n",
            "|Pori Moni| 16|         12| 10000|\n",
            "+---------+---+-----------+------+\n",
            "\n"
          ]
        }
      ]
    },
    {
      "cell_type": "code",
      "source": [
        "#For knowing the type of the variable of df.\n",
        "\n",
        "type(df)"
      ],
      "metadata": {
        "colab": {
          "base_uri": "https://localhost:8080/"
        },
        "id": "a2ZQTRXCVovS",
        "outputId": "9ef66b7e-ce75-415f-a11c-ef54f88974e0"
      },
      "execution_count": 12,
      "outputs": [
        {
          "output_type": "execute_result",
          "data": {
            "text/plain": [
              "pyspark.sql.dataframe.DataFrame"
            ]
          },
          "metadata": {},
          "execution_count": 12
        }
      ]
    },
    {
      "cell_type": "code",
      "source": [
        "# For showing the top 2 rows with data.\n",
        "\n",
        "df.head(2)"
      ],
      "metadata": {
        "colab": {
          "base_uri": "https://localhost:8080/"
        },
        "id": "70KuUsq3V3oy",
        "outputId": "90050aa5-75d5-4428-e541-eb01dd28ea4d"
      },
      "execution_count": 13,
      "outputs": [
        {
          "output_type": "execute_result",
          "data": {
            "text/plain": [
              "[Row(Name='Mafiul', Age=27, Experience =4, Salary=50000),\n",
              " Row(Name='Tanvir', Age=19, Experience =2, Salary=30000)]"
            ]
          },
          "metadata": {},
          "execution_count": 13
        }
      ]
    },
    {
      "cell_type": "code",
      "source": [
        "# For showing specific columns from the dataset. Here, it shows the Name, Age, and Experience.\n",
        "\n",
        "df.select(['Name', 'Age', 'Experience ']).show()"
      ],
      "metadata": {
        "colab": {
          "base_uri": "https://localhost:8080/"
        },
        "id": "5F9Q6BWgWNeS",
        "outputId": "99d504f7-a3b1-4721-f8e5-ad12286e6016"
      },
      "execution_count": 14,
      "outputs": [
        {
          "output_type": "stream",
          "name": "stdout",
          "text": [
            "+---------+---+-----------+\n",
            "|     Name|Age|Experience |\n",
            "+---------+---+-----------+\n",
            "|   Mafiul| 27|          4|\n",
            "|   Tanvir| 19|          2|\n",
            "|    Prema| 25|          5|\n",
            "|   Dipjol| 55|         10|\n",
            "|  Mousumi| 45|         15|\n",
            "|   Shakib| 38|         20|\n",
            "|Pori Moni| 16|         12|\n",
            "+---------+---+-----------+\n",
            "\n"
          ]
        }
      ]
    },
    {
      "cell_type": "code",
      "source": [
        "# To know about specific data. For example, here is an attempt to know the information about the \"Name\".\n",
        "\n",
        "df['Name']"
      ],
      "metadata": {
        "colab": {
          "base_uri": "https://localhost:8080/"
        },
        "id": "Jd0I_-1uXPmj",
        "outputId": "dd479c86-57ec-4a17-f2b7-5ed402ae02e3"
      },
      "execution_count": 16,
      "outputs": [
        {
          "output_type": "execute_result",
          "data": {
            "text/plain": [
              "Column<'Name'>"
            ]
          },
          "metadata": {},
          "execution_count": 16
        }
      ]
    },
    {
      "cell_type": "code",
      "source": [
        "# To know the data type of the first column (titles) of the dataset.\n",
        "\n",
        "df.dtypes"
      ],
      "metadata": {
        "colab": {
          "base_uri": "https://localhost:8080/"
        },
        "id": "dxSPYoYcXUOq",
        "outputId": "e73794c5-06ee-437b-f179-d060ebb3cb60"
      },
      "execution_count": 17,
      "outputs": [
        {
          "output_type": "execute_result",
          "data": {
            "text/plain": [
              "[('Name', 'string'), ('Age', 'int'), ('Experience ', 'int'), ('Salary', 'int')]"
            ]
          },
          "metadata": {},
          "execution_count": 17
        }
      ]
    },
    {
      "cell_type": "code",
      "source": [
        "# To generate summary statistics for the columns\n",
        "\n",
        "df.describe().show()"
      ],
      "metadata": {
        "colab": {
          "base_uri": "https://localhost:8080/"
        },
        "id": "o8qZ6jGZXYKC",
        "outputId": "9937a3ce-0801-4e22-af5f-6d0e65a5b061"
      },
      "execution_count": 18,
      "outputs": [
        {
          "output_type": "stream",
          "name": "stdout",
          "text": [
            "+-------+------+------------------+-----------------+-----------------+\n",
            "|summary|  Name|               Age|      Experience |           Salary|\n",
            "+-------+------+------------------+-----------------+-----------------+\n",
            "|  count|     7|                 7|                7|                7|\n",
            "|   mean|  null|32.142857142857146|9.714285714285714|81428.57142857143|\n",
            "| stddev|  null|14.334440710268067|6.499084184567487|  64660.284417503|\n",
            "|    min|Dipjol|                16|                2|            10000|\n",
            "|    max|Tanvir|                55|               20|           200000|\n",
            "+-------+------+------------------+-----------------+-----------------+\n",
            "\n"
          ]
        }
      ]
    },
    {
      "cell_type": "code",
      "source": [
        "# To increment all the values in a particular column at the same rate. Here, the experience is extended to 2 years.\n",
        "\n",
        "df=df.withColumn('Experience After 2 year', df['Experience ']+2)"
      ],
      "metadata": {
        "id": "06RT7wa9XgdU"
      },
      "execution_count": 19,
      "outputs": []
    },
    {
      "cell_type": "code",
      "source": [
        "# To show the whole table\n",
        "\n",
        "df.show()"
      ],
      "metadata": {
        "colab": {
          "base_uri": "https://localhost:8080/"
        },
        "id": "Z6n3Q3nhc0mD",
        "outputId": "83a23467-4028-44f4-a7d5-166d89b6d2b4"
      },
      "execution_count": 20,
      "outputs": [
        {
          "output_type": "stream",
          "name": "stdout",
          "text": [
            "+---------+---+-----------+------+-----------------------+\n",
            "|     Name|Age|Experience |Salary|Experience After 2 year|\n",
            "+---------+---+-----------+------+-----------------------+\n",
            "|   Mafiul| 27|          4| 50000|                      6|\n",
            "|   Tanvir| 19|          2| 30000|                      4|\n",
            "|    Prema| 25|          5| 60000|                      7|\n",
            "|   Dipjol| 55|         10|100000|                     12|\n",
            "|  Mousumi| 45|         15|120000|                     17|\n",
            "|   Shakib| 38|         20|200000|                     22|\n",
            "|Pori Moni| 16|         12| 10000|                     14|\n",
            "+---------+---+-----------+------+-----------------------+\n",
            "\n"
          ]
        }
      ]
    },
    {
      "cell_type": "code",
      "source": [
        "# To decrease anything we can use drop. Here the experience is decreased.\n",
        "\n",
        "df = df.drop('Experience After 2 year')"
      ],
      "metadata": {
        "id": "IHGN6eJtc5Jr"
      },
      "execution_count": 21,
      "outputs": []
    },
    {
      "cell_type": "code",
      "source": [
        "df.show()"
      ],
      "metadata": {
        "colab": {
          "base_uri": "https://localhost:8080/"
        },
        "id": "bcRD6ikpdLGj",
        "outputId": "5ff34006-85cb-469b-8b88-2416cd9f094e"
      },
      "execution_count": 22,
      "outputs": [
        {
          "output_type": "stream",
          "name": "stdout",
          "text": [
            "+---------+---+-----------+------+\n",
            "|     Name|Age|Experience |Salary|\n",
            "+---------+---+-----------+------+\n",
            "|   Mafiul| 27|          4| 50000|\n",
            "|   Tanvir| 19|          2| 30000|\n",
            "|    Prema| 25|          5| 60000|\n",
            "|   Dipjol| 55|         10|100000|\n",
            "|  Mousumi| 45|         15|120000|\n",
            "|   Shakib| 38|         20|200000|\n",
            "|Pori Moni| 16|         12| 10000|\n",
            "+---------+---+-----------+------+\n",
            "\n"
          ]
        }
      ]
    },
    {
      "cell_type": "code",
      "source": [
        "# To rename any column\n",
        "\n",
        "df.withColumnRenamed('Name', 'New Name').show()"
      ],
      "metadata": {
        "colab": {
          "base_uri": "https://localhost:8080/"
        },
        "id": "oHI3q-d8dTML",
        "outputId": "912a9600-a358-4af4-f2ad-bbdaf0902b43"
      },
      "execution_count": 23,
      "outputs": [
        {
          "output_type": "stream",
          "name": "stdout",
          "text": [
            "+---------+---+-----------+------+\n",
            "| New Name|Age|Experience |Salary|\n",
            "+---------+---+-----------+------+\n",
            "|   Mafiul| 27|          4| 50000|\n",
            "|   Tanvir| 19|          2| 30000|\n",
            "|    Prema| 25|          5| 60000|\n",
            "|   Dipjol| 55|         10|100000|\n",
            "|  Mousumi| 45|         15|120000|\n",
            "|   Shakib| 38|         20|200000|\n",
            "|Pori Moni| 16|         12| 10000|\n",
            "+---------+---+-----------+------+\n",
            "\n"
          ]
        }
      ]
    }
  ]
}